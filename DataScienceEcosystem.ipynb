{
 "cells": [
  {
   "cell_type": "markdown",
   "id": "23dd2479-de1c-4049-acda-f73782f12e91",
   "metadata": {},
   "source": [
    "# Data Science Tools and Ecosystem"
   ]
  },
  {
   "cell_type": "markdown",
   "id": "4041eab6-5fde-4b11-8171-aecd3a755d29",
   "metadata": {},
   "source": [
    "## Author\n",
    "Ziyu Jiang"
   ]
  },
  {
   "attachments": {},
   "cell_type": "markdown",
   "id": "dff02890-e484-438f-9714-0873c5dc688d",
   "metadata": {},
   "source": [
    "In this notebook, Data Science Tools and Ecosystem are summarized."
   ]
  },
  {
   "cell_type": "markdown",
   "id": "53547805-0b21-42f5-8a3f-011ff60d21fe",
   "metadata": {},
   "source": [
    "*Objectives:* \n",
    "* List popular languages for Data Science\n",
    "* List commonly used libraries used by Data Scientists\n",
    "* List popular tools in Data Scientists' toolkits\n",
    "* Show basic arthmatic operations in python"
   ]
  },
  {
   "cell_type": "markdown",
   "id": "cd2c46fe-a109-4d4f-96b4-24e60698ebb3",
   "metadata": {},
   "source": [
    "Some of the popular languages that Data Scientists use are:\n",
    "1. Python\n",
    "2. R\n",
    "3. Scala\n",
    "4. Julia"
   ]
  },
  {
   "cell_type": "markdown",
   "id": "a0844438-d5e6-4f65-a113-81b95eb60450",
   "metadata": {},
   "source": [
    "Some of the commonly used libraries used by Data Scientists include:\n",
    "1. Numpy\n",
    "2. Pandas\n",
    "3. Matplotlib\n",
    "4. Seaborn\n",
    "5. Scikit-learn\n",
    "6. TensorFlow\n",
    "   etc."
   ]
  },
  {
   "cell_type": "markdown",
   "id": "181d84f1-54b4-458a-a9d7-173fe717c325",
   "metadata": {},
   "source": [
    "| Data Science Tools |\n",
    "| :----------------: |\n",
    "| Anaconda |\n",
    "| RStudio |\n",
    "| Apache Spark |"
   ]
  },
  {
   "cell_type": "markdown",
   "id": "3387ec10-45f3-4379-839f-56d361ab8941",
   "metadata": {},
   "source": [
    "### Below are a few examples of evaluating arithmetic expressions in Python."
   ]
  },
  {
   "cell_type": "code",
   "execution_count": 10,
   "id": "43dc8537-6e00-4d03-8015-d933d12065f5",
   "metadata": {},
   "outputs": [
    {
     "data": {
      "text/plain": [
       "17"
      ]
     },
     "execution_count": 10,
     "metadata": {},
     "output_type": "execute_result"
    }
   ],
   "source": [
    "# This a simple arithmetic expression to mutiply then add integers.\n",
    "( 3 * 4 ) + 5"
   ]
  },
  {
   "cell_type": "code",
   "execution_count": 33,
   "id": "16cf87ee-ac0e-4c3e-b557-c6803f50ace4",
   "metadata": {},
   "outputs": [
    {
     "name": "stdout",
     "output_type": "stream",
     "text": [
      "200 minutes is equal to 3.3333333333333335 hours.\n"
     ]
    }
   ],
   "source": [
    "# This will convert 200 minutes to hours by diving by 60。\n",
    "min = 200\n",
    "hour = min / 60\n",
    "print(min ,\"minutes is equal to\", hour ,\"hours.\")"
   ]
  },
  {
   "cell_type": "code",
   "execution_count": null,
   "id": "71520709-c9be-417d-8798-d57ca843d64a",
   "metadata": {},
   "outputs": [],
   "source": []
  }
 ],
 "metadata": {
  "kernelspec": {
   "display_name": "Python 3 (ipykernel)",
   "language": "python",
   "name": "python3"
  },
  "language_info": {
   "codemirror_mode": {
    "name": "ipython",
    "version": 3
   },
   "file_extension": ".py",
   "mimetype": "text/x-python",
   "name": "python",
   "nbconvert_exporter": "python",
   "pygments_lexer": "ipython3",
   "version": "3.11.7"
  }
 },
 "nbformat": 4,
 "nbformat_minor": 5
}
